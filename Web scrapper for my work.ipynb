{
 "cells": [
  {
   "cell_type": "markdown",
   "metadata": {},
   "source": [
    "# Web scraping project.\n",
    "I have created this project to use at my work. It helps me to automate a part of my current role as a data analyst. It downloads required KPI metrics and saves them in appropriate excel file. The excel (that I created but I'm not allowed to share) automatically does required calculations and visulizations graphs ready for reporting. The actual script has more advance code and much bigger data that I am not able to share publicly due to sensitive nature of the data used. "
   ]
  },
  {
   "cell_type": "markdown",
   "metadata": {},
   "source": [
    "# Downloads and libraries"
   ]
  },
  {
   "cell_type": "code",
   "execution_count": 1,
   "metadata": {},
   "outputs": [],
   "source": [
    "#!/usr/bin/env python3\n",
    "import re\n",
    "import csv, time\n",
    "import pandas as pd\n",
    "from selenium import webdriver\n",
    "from selenium.webdriver.chrome.options import Options\n",
    "import openpyxl\n",
    "import xlsxwriter\n",
    "\n",
    "#my private module with sensitive info\n",
    "import pwx_module as pwx\n",
    "\n",
    "#delay libraries\n",
    "from selenium.webdriver.common.by import By\n",
    "from selenium.webdriver.support.ui import WebDriverWait\n",
    "from selenium.webdriver.support import expected_conditions as ec\n",
    "\n",
    "driver_path = r'C:\\Users\\giuse\\Desktop\\Back office bot\\chromedriver.exe'\n",
    "single = pd.read_csv(r'C:\\Users\\giuse\\Desktop\\Back office bot\\single.csv')\n",
    "outcome = openpyxl.load_workbook(r'C:\\Users\\giuse\\Desktop\\Back office bot\\outcome.xlsx')"
   ]
  },
  {
   "cell_type": "markdown",
   "metadata": {},
   "source": [
    "# Web scrapping code"
   ]
  },
  {
   "cell_type": "code",
   "execution_count": 30,
   "metadata": {},
   "outputs": [],
   "source": [
    "row = 2\n",
    "for name in single['link']:\n",
    " \n",
    "    # opening browser\n",
    "    driver = webdriver.Chrome(driver_path)   \n",
    "    driver.get(name)\n",
    "    \n",
    "    # waiting for login table to load\n",
    "    try:\n",
    "        element = WebDriverWait(driver,10).until(\n",
    "        ec.presence_of_element_located((By.XPATH,'//*[@id=\"email\"]'))\n",
    "        )\n",
    "    except:\n",
    "        driver.quit()\n",
    "        \n",
    "    #entering sensitive info\n",
    "    driver.find_element_by_id(\"email\").send_keys(pwx.em)                                  # login details\n",
    "    driver.find_element_by_id(\"password\").send_keys(pwx.pw)                               # password details\n",
    "    driver.find_element_by_xpath('//*[@id=\"appContainer\"]/div/form/button').click()       # click sign in\n",
    "\n",
    "    # waiting for page to load\n",
    "    try:\n",
    "        element = WebDriverWait(driver,10).until(\n",
    "        ec.presence_of_element_located((By.XPATH,'//*[@id=\"testing\"]/section/section[4]/div/table/tbody/tr[2]/td[3]/span'))\n",
    "        )\n",
    "    except:\n",
    "        driver.quit()    \n",
    "    \n",
    "    # getting info from the page\n",
    "    w = driver.find_element_by_xpath('//*[@id=\"testing\"]/section/section[4]/div/table/tbody/tr[2]/td[3]/span')\n",
    "    d = driver.find_element_by_xpath('//*[@id=\"testing\"]/section/section[4]/div/table/tbody/tr[15]/td[3]/span')\n",
    "    b = driver.find_element_by_xpath('//*[@id=\"testing\"]/section/section[4]/div/table/tbody/tr[21]/td[3]/span')\n",
    "    n = driver.find_element_by_xpath('//*[@id=\"testing\"]/section/section[4]/div/table/tbody/tr[5]/td[3]/span')\n",
    "    t = driver.find_element_by_xpath('//*[@id=\"testing\"]/section/section[4]/div/table/tbody/tr[17]/td[3]/span')  \n",
    "      \n",
    "    # writing info into excel file\n",
    "    cell = outcome['import']\n",
    "    \n",
    "    withdrawal_cell = 'B' + str(row)\n",
    "    deposit_cell = 'C'+ str(row)\n",
    "    bets_cell = 'D'+ str(row)\n",
    "    new_dep_cell = 'E'+ str(row)\n",
    "    tot_dep_cell = 'F'+ str(row)\n",
    "        \n",
    "    \n",
    "    cell[withdrawal_cell].value = w.text\n",
    "    cell[deposit_cell].value = d.text\n",
    "    cell[bets_cell].value =  b.text\n",
    "    cell[new_dep_cell].value =  n.text\n",
    "    cell[tot_dep_cell].value =  t.text\n",
    "                                       \n",
    "    driver.quit()\n",
    "    \n",
    "    row = row +1\n",
    "   \n",
    "outcome.save(r'C:\\Users\\giuse\\Desktop\\Back office bot\\outcome.xlsx')"
   ]
  },
  {
   "cell_type": "code",
   "execution_count": null,
   "metadata": {},
   "outputs": [],
   "source": []
  }
 ],
 "metadata": {
  "kernelspec": {
   "display_name": "Python 3",
   "language": "python",
   "name": "python3"
  },
  "language_info": {
   "codemirror_mode": {
    "name": "ipython",
    "version": 3
   },
   "file_extension": ".py",
   "mimetype": "text/x-python",
   "name": "python",
   "nbconvert_exporter": "python",
   "pygments_lexer": "ipython3",
   "version": "3.7.7"
  }
 },
 "nbformat": 4,
 "nbformat_minor": 4
}
